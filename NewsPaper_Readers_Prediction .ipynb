{
 "cells": [
  {
   "cell_type": "code",
   "execution_count": 94,
   "id": "17bdfddb-9f4c-4011-a9d7-be8bbbf4f3b0",
   "metadata": {},
   "outputs": [],
   "source": [
    "import pandas as pd\n",
    "import seaborn as sns\n",
    "import matplotlib.pyplot as plt\n",
    "%matplotlib inline\n",
    "from sklearn import preprocessing \n",
    "from sklearn.preprocessing import LabelEncoder\n",
    "from sklearn.preprocessing import StandardScaler\n",
    "from sklearn.model_selection import train_test_split\n",
    "from sklearn.metrics import accuracy_score\n",
    "from sklearn.metrics import classification_report\n",
    "from sklearn.linear_model import LogisticRegression\n",
    "from sklearn.neighbors import KNeighborsClassifier\n",
    "from sklearn.naive_bayes import GaussianNB\n",
    "from sklearn.ensemble import RandomForestClassifier\n",
    "from sklearn.ensemble import VotingClassifier"
   ]
  },
  {
   "cell_type": "code",
   "execution_count": 95,
   "id": "b1c7975e-7323-4b38-8ec9-98df220b168e",
   "metadata": {},
   "outputs": [
    {
     "data": {
      "text/html": [
       "<div>\n",
       "<style scoped>\n",
       "    .dataframe tbody tr th:only-of-type {\n",
       "        vertical-align: middle;\n",
       "    }\n",
       "\n",
       "    .dataframe tbody tr th {\n",
       "        vertical-align: top;\n",
       "    }\n",
       "\n",
       "    .dataframe thead th {\n",
       "        text-align: right;\n",
       "    }\n",
       "</style>\n",
       "<table border=\"1\" class=\"dataframe\">\n",
       "  <thead>\n",
       "    <tr style=\"text-align: right;\">\n",
       "      <th></th>\n",
       "      <th>Unnamed: 0</th>\n",
       "      <th>ID</th>\n",
       "      <th>ID_ORIGINAL</th>\n",
       "      <th>Gender</th>\n",
       "      <th>Portuguese_Citizenship</th>\n",
       "      <th>Age</th>\n",
       "      <th>Frequent_Traveler</th>\n",
       "      <th>Cellphone_Usage</th>\n",
       "      <th>Household_Size</th>\n",
       "      <th>JournalReader</th>\n",
       "      <th>Satisfaction_Level</th>\n",
       "      <th>Occupation</th>\n",
       "      <th>Political_Participation</th>\n",
       "      <th>Social_Person</th>\n",
       "      <th>Area_Residence</th>\n",
       "      <th>Household_Income</th>\n",
       "    </tr>\n",
       "  </thead>\n",
       "  <tbody>\n",
       "    <tr>\n",
       "      <th>0</th>\n",
       "      <td>0</td>\n",
       "      <td>1000</td>\n",
       "      <td>467329</td>\n",
       "      <td>Female</td>\n",
       "      <td>No</td>\n",
       "      <td>40</td>\n",
       "      <td>Yes</td>\n",
       "      <td>Low</td>\n",
       "      <td>1.0</td>\n",
       "      <td>1</td>\n",
       "      <td>4.0</td>\n",
       "      <td>Government</td>\n",
       "      <td>Strong involvement</td>\n",
       "      <td>No</td>\n",
       "      <td>City</td>\n",
       "      <td>7000</td>\n",
       "    </tr>\n",
       "    <tr>\n",
       "      <th>1</th>\n",
       "      <td>1</td>\n",
       "      <td>1001</td>\n",
       "      <td>461212</td>\n",
       "      <td>Female</td>\n",
       "      <td>No</td>\n",
       "      <td>30</td>\n",
       "      <td>No</td>\n",
       "      <td>High</td>\n",
       "      <td>6.0</td>\n",
       "      <td>0</td>\n",
       "      <td>1.0</td>\n",
       "      <td>Nothing</td>\n",
       "      <td>Strong involvement</td>\n",
       "      <td>No</td>\n",
       "      <td>City</td>\n",
       "      <td>19610</td>\n",
       "    </tr>\n",
       "    <tr>\n",
       "      <th>2</th>\n",
       "      <td>2</td>\n",
       "      <td>1002</td>\n",
       "      <td>466216</td>\n",
       "      <td>Male</td>\n",
       "      <td>No</td>\n",
       "      <td>29</td>\n",
       "      <td>No</td>\n",
       "      <td>High</td>\n",
       "      <td>4.0</td>\n",
       "      <td>0</td>\n",
       "      <td>1.0</td>\n",
       "      <td>Private company</td>\n",
       "      <td>No involvement</td>\n",
       "      <td>Yes</td>\n",
       "      <td>Country-side</td>\n",
       "      <td>8261</td>\n",
       "    </tr>\n",
       "    <tr>\n",
       "      <th>3</th>\n",
       "      <td>3</td>\n",
       "      <td>1003</td>\n",
       "      <td>462613</td>\n",
       "      <td>Female</td>\n",
       "      <td>Yes</td>\n",
       "      <td>35</td>\n",
       "      <td>No</td>\n",
       "      <td>Low</td>\n",
       "      <td>5.0</td>\n",
       "      <td>0</td>\n",
       "      <td>1.0</td>\n",
       "      <td>Private company</td>\n",
       "      <td>Strong involvement</td>\n",
       "      <td>Yes</td>\n",
       "      <td>Country-side</td>\n",
       "      <td>7000</td>\n",
       "    </tr>\n",
       "    <tr>\n",
       "      <th>4</th>\n",
       "      <td>4</td>\n",
       "      <td>1004</td>\n",
       "      <td>465709</td>\n",
       "      <td>Male</td>\n",
       "      <td>Yes</td>\n",
       "      <td>68</td>\n",
       "      <td>Yes</td>\n",
       "      <td>Average</td>\n",
       "      <td>2.0</td>\n",
       "      <td>1</td>\n",
       "      <td>4.0</td>\n",
       "      <td>Private company</td>\n",
       "      <td>No involvement</td>\n",
       "      <td>No</td>\n",
       "      <td>City</td>\n",
       "      <td>8261</td>\n",
       "    </tr>\n",
       "  </tbody>\n",
       "</table>\n",
       "</div>"
      ],
      "text/plain": [
       "   Unnamed: 0    ID  ID_ORIGINAL  Gender Portuguese_Citizenship  Age  \\\n",
       "0           0  1000       467329  Female                     No   40   \n",
       "1           1  1001       461212  Female                     No   30   \n",
       "2           2  1002       466216    Male                     No   29   \n",
       "3           3  1003       462613  Female                    Yes   35   \n",
       "4           4  1004       465709    Male                    Yes   68   \n",
       "\n",
       "  Frequent_Traveler Cellphone_Usage  Household_Size  JournalReader  \\\n",
       "0               Yes             Low             1.0              1   \n",
       "1                No            High             6.0              0   \n",
       "2                No            High             4.0              0   \n",
       "3                No             Low             5.0              0   \n",
       "4               Yes         Average             2.0              1   \n",
       "\n",
       "   Satisfaction_Level       Occupation Political_Participation Social_Person  \\\n",
       "0                 4.0       Government      Strong involvement            No   \n",
       "1                 1.0          Nothing      Strong involvement            No   \n",
       "2                 1.0  Private company          No involvement           Yes   \n",
       "3                 1.0  Private company      Strong involvement           Yes   \n",
       "4                 4.0  Private company          No involvement            No   \n",
       "\n",
       "  Area_Residence  Household_Income  \n",
       "0           City              7000  \n",
       "1           City             19610  \n",
       "2   Country-side              8261  \n",
       "3   Country-side              7000  \n",
       "4           City              8261  "
      ]
     },
     "execution_count": 95,
     "metadata": {},
     "output_type": "execute_result"
    }
   ],
   "source": [
    "data = pd.read_csv(\"newspaper_readers_data.csv\")\n",
    "data.head()"
   ]
  },
  {
   "cell_type": "code",
   "execution_count": 96,
   "id": "04e4ec50-4ef8-4fcf-92e8-d689bd38ded5",
   "metadata": {},
   "outputs": [
    {
     "data": {
      "text/plain": [
       "ID                         0\n",
       "ID_ORIGINAL                0\n",
       "Gender                     0\n",
       "Portuguese_Citizenship     0\n",
       "Age                        0\n",
       "Frequent_Traveler          0\n",
       "Cellphone_Usage            0\n",
       "Household_Size             0\n",
       "Newspaper_Reader           0\n",
       "Satisfaction_Level         0\n",
       "Occupation                 0\n",
       "Political_Participation    0\n",
       "Social_Person              0\n",
       "Area_Residence             0\n",
       "Household_Income           0\n",
       "dtype: int64"
      ]
     },
     "execution_count": 96,
     "metadata": {},
     "output_type": "execute_result"
    }
   ],
   "source": [
    "data.drop(['Unnamed: 0'],axis=1,inplace=True)\n",
    "data.rename(columns = {'JournalReader':'Newspaper_Reader'},inplace=True)\n",
    "data.dropna(subset =['Portuguese_Citizenship','Frequent_Traveler','Satisfaction_Level','Occupation','Political_Participation','Social_Person','Area_Residence'],inplace=True)\n",
    "data.isnull().sum()"
   ]
  },
  {
   "cell_type": "code",
   "execution_count": 97,
   "id": "9680eeea-3062-4a8f-aaa4-e8084de981d6",
   "metadata": {},
   "outputs": [
    {
     "name": "stdout",
     "output_type": "stream",
     "text": [
      "<class 'pandas.core.frame.DataFrame'>\n",
      "Index: 7316 entries, 0 to 7999\n",
      "Data columns (total 15 columns):\n",
      " #   Column                   Non-Null Count  Dtype  \n",
      "---  ------                   --------------  -----  \n",
      " 0   ID                       7316 non-null   int64  \n",
      " 1   ID_ORIGINAL              7316 non-null   int64  \n",
      " 2   Gender                   7316 non-null   object \n",
      " 3   Portuguese_Citizenship   7316 non-null   object \n",
      " 4   Age                      7316 non-null   int64  \n",
      " 5   Frequent_Traveler        7316 non-null   object \n",
      " 6   Cellphone_Usage          7316 non-null   object \n",
      " 7   Household_Size           7316 non-null   float64\n",
      " 8   Newspaper_Reader         7316 non-null   int64  \n",
      " 9   Satisfaction_Level       7316 non-null   float64\n",
      " 10  Occupation               7316 non-null   object \n",
      " 11  Political_Participation  7316 non-null   object \n",
      " 12  Social_Person            7316 non-null   object \n",
      " 13  Area_Residence           7316 non-null   object \n",
      " 14  Household_Income         7316 non-null   int64  \n",
      "dtypes: float64(2), int64(5), object(8)\n",
      "memory usage: 914.5+ KB\n"
     ]
    }
   ],
   "source": [
    "data.info()"
   ]
  },
  {
   "cell_type": "code",
   "execution_count": 98,
   "id": "ebf0b873-e835-4979-87f0-92f3896de755",
   "metadata": {},
   "outputs": [],
   "source": [
    "le = LabelEncoder()\n",
    "ge = LabelEncoder()\n",
    "le1 = LabelEncoder()\n",
    "ge1 = LabelEncoder()\n",
    "le2 = LabelEncoder()\n",
    "ge2 = LabelEncoder()\n",
    "le3 = LabelEncoder()\n",
    "ge3 = LabelEncoder()\n",
    "data['Gender'] = ge.fit_transform(data['Gender'])\n",
    "data['Portuguese_Citizenship'] = le.fit_transform(data['Portuguese_Citizenship'])\n",
    "data['Frequent_Traveler'] = le1.fit_transform(data['Frequent_Traveler'])\n",
    "data['Cellphone_Usage'] = ge1.fit_transform(data['Cellphone_Usage'])\n",
    "data['Occupation'] = le2.fit_transform(data['Occupation'])\n",
    "data['Political_Participation'] = ge2.fit_transform(data['Political_Participation'])\n",
    "data['Social_Person'] = le3.fit_transform(data['Social_Person'])\n",
    "data['Area_Residence'] = ge3.fit_transform(data['Area_Residence'])"
   ]
  },
  {
   "cell_type": "code",
   "execution_count": 99,
   "id": "5ad6fffd-112c-4730-8fb4-f8d59f8efb41",
   "metadata": {},
   "outputs": [
    {
     "data": {
      "text/html": [
       "<div>\n",
       "<style scoped>\n",
       "    .dataframe tbody tr th:only-of-type {\n",
       "        vertical-align: middle;\n",
       "    }\n",
       "\n",
       "    .dataframe tbody tr th {\n",
       "        vertical-align: top;\n",
       "    }\n",
       "\n",
       "    .dataframe thead th {\n",
       "        text-align: right;\n",
       "    }\n",
       "</style>\n",
       "<table border=\"1\" class=\"dataframe\">\n",
       "  <thead>\n",
       "    <tr style=\"text-align: right;\">\n",
       "      <th></th>\n",
       "      <th>ID</th>\n",
       "      <th>ID_ORIGINAL</th>\n",
       "      <th>Gender</th>\n",
       "      <th>Portuguese_Citizenship</th>\n",
       "      <th>Age</th>\n",
       "      <th>Frequent_Traveler</th>\n",
       "      <th>Cellphone_Usage</th>\n",
       "      <th>Household_Size</th>\n",
       "      <th>Newspaper_Reader</th>\n",
       "      <th>Satisfaction_Level</th>\n",
       "      <th>Occupation</th>\n",
       "      <th>Political_Participation</th>\n",
       "      <th>Social_Person</th>\n",
       "      <th>Area_Residence</th>\n",
       "      <th>Household_Income</th>\n",
       "    </tr>\n",
       "  </thead>\n",
       "  <tbody>\n",
       "    <tr>\n",
       "      <th>0</th>\n",
       "      <td>1000</td>\n",
       "      <td>467329</td>\n",
       "      <td>0</td>\n",
       "      <td>0</td>\n",
       "      <td>40</td>\n",
       "      <td>1</td>\n",
       "      <td>2</td>\n",
       "      <td>1.0</td>\n",
       "      <td>1</td>\n",
       "      <td>4.0</td>\n",
       "      <td>0</td>\n",
       "      <td>2</td>\n",
       "      <td>0</td>\n",
       "      <td>0</td>\n",
       "      <td>7000</td>\n",
       "    </tr>\n",
       "    <tr>\n",
       "      <th>1</th>\n",
       "      <td>1001</td>\n",
       "      <td>461212</td>\n",
       "      <td>0</td>\n",
       "      <td>0</td>\n",
       "      <td>30</td>\n",
       "      <td>0</td>\n",
       "      <td>1</td>\n",
       "      <td>6.0</td>\n",
       "      <td>0</td>\n",
       "      <td>1.0</td>\n",
       "      <td>1</td>\n",
       "      <td>2</td>\n",
       "      <td>0</td>\n",
       "      <td>0</td>\n",
       "      <td>19610</td>\n",
       "    </tr>\n",
       "    <tr>\n",
       "      <th>2</th>\n",
       "      <td>1002</td>\n",
       "      <td>466216</td>\n",
       "      <td>1</td>\n",
       "      <td>0</td>\n",
       "      <td>29</td>\n",
       "      <td>0</td>\n",
       "      <td>1</td>\n",
       "      <td>4.0</td>\n",
       "      <td>0</td>\n",
       "      <td>1.0</td>\n",
       "      <td>2</td>\n",
       "      <td>0</td>\n",
       "      <td>1</td>\n",
       "      <td>1</td>\n",
       "      <td>8261</td>\n",
       "    </tr>\n",
       "    <tr>\n",
       "      <th>3</th>\n",
       "      <td>1003</td>\n",
       "      <td>462613</td>\n",
       "      <td>0</td>\n",
       "      <td>1</td>\n",
       "      <td>35</td>\n",
       "      <td>0</td>\n",
       "      <td>2</td>\n",
       "      <td>5.0</td>\n",
       "      <td>0</td>\n",
       "      <td>1.0</td>\n",
       "      <td>2</td>\n",
       "      <td>2</td>\n",
       "      <td>1</td>\n",
       "      <td>1</td>\n",
       "      <td>7000</td>\n",
       "    </tr>\n",
       "    <tr>\n",
       "      <th>4</th>\n",
       "      <td>1004</td>\n",
       "      <td>465709</td>\n",
       "      <td>1</td>\n",
       "      <td>1</td>\n",
       "      <td>68</td>\n",
       "      <td>1</td>\n",
       "      <td>0</td>\n",
       "      <td>2.0</td>\n",
       "      <td>1</td>\n",
       "      <td>4.0</td>\n",
       "      <td>2</td>\n",
       "      <td>0</td>\n",
       "      <td>0</td>\n",
       "      <td>0</td>\n",
       "      <td>8261</td>\n",
       "    </tr>\n",
       "  </tbody>\n",
       "</table>\n",
       "</div>"
      ],
      "text/plain": [
       "     ID  ID_ORIGINAL  Gender  Portuguese_Citizenship  Age  Frequent_Traveler  \\\n",
       "0  1000       467329       0                       0   40                  1   \n",
       "1  1001       461212       0                       0   30                  0   \n",
       "2  1002       466216       1                       0   29                  0   \n",
       "3  1003       462613       0                       1   35                  0   \n",
       "4  1004       465709       1                       1   68                  1   \n",
       "\n",
       "   Cellphone_Usage  Household_Size  Newspaper_Reader  Satisfaction_Level  \\\n",
       "0                2             1.0                 1                 4.0   \n",
       "1                1             6.0                 0                 1.0   \n",
       "2                1             4.0                 0                 1.0   \n",
       "3                2             5.0                 0                 1.0   \n",
       "4                0             2.0                 1                 4.0   \n",
       "\n",
       "   Occupation  Political_Participation  Social_Person  Area_Residence  \\\n",
       "0           0                        2              0               0   \n",
       "1           1                        2              0               0   \n",
       "2           2                        0              1               1   \n",
       "3           2                        2              1               1   \n",
       "4           2                        0              0               0   \n",
       "\n",
       "   Household_Income  \n",
       "0              7000  \n",
       "1             19610  \n",
       "2              8261  \n",
       "3              7000  \n",
       "4              8261  "
      ]
     },
     "execution_count": 99,
     "metadata": {},
     "output_type": "execute_result"
    }
   ],
   "source": [
    "data.head(5)"
   ]
  },
  {
   "cell_type": "code",
   "execution_count": 100,
   "id": "f568bf66-9235-4b07-a330-92b7adbc8a8a",
   "metadata": {},
   "outputs": [],
   "source": [
    "y = data[\"Newspaper_Reader\"]\n",
    "x = data.drop([\"Newspaper_Reader\"],axis=1)\n",
    "scaler = StandardScaler()\n",
    "X_scaled = scaler.fit_transform(x)"
   ]
  },
  {
   "cell_type": "code",
   "execution_count": 101,
   "id": "93c3b28b-9cfd-428b-b370-44646612f15a",
   "metadata": {},
   "outputs": [],
   "source": [
    "X_train,X_test,y_train,y_test = train_test_split(X_scaled,y,test_size=0.20,random_state=30)"
   ]
  },
  {
   "cell_type": "code",
   "execution_count": 102,
   "id": "df8bfa7d-b742-4386-ae3f-71a72ea6b9ef",
   "metadata": {},
   "outputs": [
    {
     "name": "stdout",
     "output_type": "stream",
     "text": [
      "Accuracy by logistic Regression:= 0.740437\n",
      "\n",
      "Classification Report By Logistic Regression Algorithm \n",
      "\n",
      "              precision    recall  f1-score   support\n",
      "\n",
      "           0       0.75      0.75      0.75       753\n",
      "           1       0.73      0.73      0.73       711\n",
      "\n",
      "    accuracy                           0.74      1464\n",
      "   macro avg       0.74      0.74      0.74      1464\n",
      "weighted avg       0.74      0.74      0.74      1464\n",
      "\n"
     ]
    }
   ],
   "source": [
    "lr_model = LogisticRegression()\n",
    "lr_model.fit(X_train,y_train)\n",
    "y_pred = lr_model.predict(X_test)\n",
    "accuracy_lr = accuracy_score(y_test,y_pred)\n",
    "print(f\"Accuracy by logistic Regression:= {accuracy_lr :2f}\\n\")\n",
    "print(\"Classification Report By Logistic Regression Algorithm \\n\")\n",
    "print(classification_report(y_test,y_pred))"
   ]
  },
  {
   "cell_type": "code",
   "execution_count": 103,
   "id": "8a292b8b-dbdc-4868-bdb7-a375d221eccd",
   "metadata": {},
   "outputs": [
    {
     "name": "stdout",
     "output_type": "stream",
     "text": [
      "Accuracy by KNN:= 0.858607\n",
      "\n",
      "Classification Report By KNN Algorithm \n",
      "\n",
      "              precision    recall  f1-score   support\n",
      "\n",
      "           0       0.85      0.88      0.86       753\n",
      "           1       0.86      0.84      0.85       711\n",
      "\n",
      "    accuracy                           0.86      1464\n",
      "   macro avg       0.86      0.86      0.86      1464\n",
      "weighted avg       0.86      0.86      0.86      1464\n",
      "\n"
     ]
    }
   ],
   "source": [
    "Kclassifier_model = KNeighborsClassifier(n_neighbors = 5)\n",
    "Kclassifier_model.fit(X_train,y_train)\n",
    "y_pred_kclassifier = Kclassifier_model.predict(X_test)\n",
    "accuracy_kclassifier = accuracy_score(y_test,y_pred_kclassifier)\n",
    "print(f\"Accuracy by KNN:= {accuracy_kclassifier :2f}\\n\")\n",
    "print(\"Classification Report By KNN Algorithm \\n\")\n",
    "print(classification_report(y_test,y_pred_kclassifier))"
   ]
  },
  {
   "cell_type": "code",
   "execution_count": 104,
   "id": "1e257736-7265-4b85-a2c6-34dc183c8cdb",
   "metadata": {},
   "outputs": [
    {
     "name": "stdout",
     "output_type": "stream",
     "text": [
      "Accuracy by naive bayes:= 0.747951\n",
      "\n",
      "Classification Report By Naive bayes Algorithm \n",
      "\n",
      "              precision    recall  f1-score   support\n",
      "\n",
      "           0       0.78      0.72      0.75       753\n",
      "           1       0.72      0.78      0.75       711\n",
      "\n",
      "    accuracy                           0.75      1464\n",
      "   macro avg       0.75      0.75      0.75      1464\n",
      "weighted avg       0.75      0.75      0.75      1464\n",
      "\n"
     ]
    }
   ],
   "source": [
    "NB_model = GaussianNB()\n",
    "NB_model.fit(X_train,y_train)\n",
    "y_pred_NB = NB_model.predict(X_test)\n",
    "accuracy_NB = accuracy_score(y_test,y_pred_NB)\n",
    "print(f\"Accuracy by naive bayes:= {accuracy_NB :2f}\\n\")\n",
    "print(\"Classification Report By Naive bayes Algorithm \\n\")\n",
    "print(classification_report(y_test,y_pred_NB))"
   ]
  },
  {
   "cell_type": "code",
   "execution_count": 105,
   "id": "b27b674c-9c31-476a-b270-ca81fde13293",
   "metadata": {},
   "outputs": [
    {
     "name": "stdout",
     "output_type": "stream",
     "text": [
      "Accuracy by Random Forest Classifier:= 0.916667\n",
      "\n",
      "Classification Report By Random Forest Algorithm \n",
      "\n",
      "              precision    recall  f1-score   support\n",
      "\n",
      "           0       0.92      0.92      0.92       753\n",
      "           1       0.91      0.92      0.91       711\n",
      "\n",
      "    accuracy                           0.92      1464\n",
      "   macro avg       0.92      0.92      0.92      1464\n",
      "weighted avg       0.92      0.92      0.92      1464\n",
      "\n"
     ]
    }
   ],
   "source": [
    "RF_model = RandomForestClassifier()\n",
    "RF_model.fit(X_train,y_train)\n",
    "y_pred_RF = RF_model.predict(X_test)\n",
    "accuracy_RF = accuracy_score(y_test,y_pred_RF)\n",
    "print(f\"Accuracy by Random Forest Classifier:= {accuracy_RF :2f}\\n\")\n",
    "print(\"Classification Report By Random Forest Algorithm \\n\")\n",
    "print(classification_report(y_test,y_pred_RF))"
   ]
  },
  {
   "cell_type": "code",
   "execution_count": 106,
   "id": "7d93c894-79e2-4251-8520-6be464d94c4b",
   "metadata": {},
   "outputs": [
    {
     "name": "stdout",
     "output_type": "stream",
     "text": [
      "Accuracy by SVM Classifier:= 0.900956\n",
      "\n",
      "Classification Report By SVM Algorithm \n",
      "\n",
      "              precision    recall  f1-score   support\n",
      "\n",
      "           0       0.91      0.89      0.90       753\n",
      "           1       0.89      0.91      0.90       711\n",
      "\n",
      "    accuracy                           0.90      1464\n",
      "   macro avg       0.90      0.90      0.90      1464\n",
      "weighted avg       0.90      0.90      0.90      1464\n",
      "\n"
     ]
    }
   ],
   "source": [
    "from sklearn import svm\n",
    "SVM_model = svm.SVC()\n",
    "SVM_model.fit(X_train,y_train)\n",
    "y_pred_SVM = SVM_model.predict(X_test)\n",
    "accuracy_SVM = accuracy_score(y_test,y_pred_SVM)\n",
    "print(f\"Accuracy by SVM Classifier:= {accuracy_SVM :2f}\\n\")\n",
    "print(\"Classification Report By SVM Algorithm \\n\")\n",
    "print(classification_report(y_test,y_pred_SVM))"
   ]
  },
  {
   "cell_type": "code",
   "execution_count": 107,
   "id": "7692a686-915b-4eb2-86a9-f081b09ad1f8",
   "metadata": {},
   "outputs": [
    {
     "name": "stdout",
     "output_type": "stream",
     "text": [
      "Accuracy by XGBoost Algorithm := 0.909153\n",
      "\n",
      "Classification Report By XGBoost Algorithm \n",
      "\n",
      "              precision    recall  f1-score   support\n",
      "\n",
      "           0       0.92      0.91      0.91       753\n",
      "           1       0.90      0.91      0.91       711\n",
      "\n",
      "    accuracy                           0.91      1464\n",
      "   macro avg       0.91      0.91      0.91      1464\n",
      "weighted avg       0.91      0.91      0.91      1464\n",
      "\n"
     ]
    }
   ],
   "source": [
    "import xgboost as xgb\n",
    "from xgboost import XGBClassifier\n",
    "XGB_model = XGBClassifier()\n",
    "XGB_model.fit(X_train,y_train)\n",
    "y_pred_XGB = XGB_model.predict(X_test)\n",
    "accuracy_XGB = accuracy_score(y_test,y_pred_XGB)\n",
    "print(f\"Accuracy by XGBoost Algorithm := {accuracy_XGB :2f}\\n\")\n",
    "print(\"Classification Report By XGBoost Algorithm \\n\")\n",
    "print(classification_report(y_test,y_pred_XGB))"
   ]
  },
  {
   "cell_type": "code",
   "execution_count": 108,
   "id": "7b96e77c-8a0d-4349-908d-c4acfa2d2b61",
   "metadata": {},
   "outputs": [
    {
     "name": "stdout",
     "output_type": "stream",
     "text": [
      "Accuracy by Voting Classifier:= 0.908470\n",
      "\n",
      "Classification Report By Voting Classifier \n",
      "\n",
      "              precision    recall  f1-score   support\n",
      "\n",
      "           0       0.91      0.91      0.91       753\n",
      "           1       0.91      0.91      0.91       711\n",
      "\n",
      "    accuracy                           0.91      1464\n",
      "   macro avg       0.91      0.91      0.91      1464\n",
      "weighted avg       0.91      0.91      0.91      1464\n",
      "\n"
     ]
    }
   ],
   "source": [
    "SVM_model1 = svm.SVC(probability=True)\n",
    "voting_classifier = VotingClassifier(\n",
    "    estimators=[('lr', Kclassifier_model), ('rf', RF_model), ('svc', SVM_model1)], voting='soft')\n",
    "voting_classifier.fit(X_train, y_train)\n",
    "y_pred_voting = voting_classifier.predict(X_test)\n",
    "accuracy_voting = accuracy_score(y_test,y_pred_voting)\n",
    "print(f\"Accuracy by Voting Classifier:= {accuracy_voting :2f}\\n\")\n",
    "print(\"Classification Report By Voting Classifier \\n\")\n",
    "print(classification_report(y_test,y_pred_voting))"
   ]
  },
  {
   "cell_type": "code",
   "execution_count": 114,
   "id": "56fbbe0a-ad1f-47aa-ad77-d1e08f9ee208",
   "metadata": {},
   "outputs": [
    {
     "name": "stdout",
     "output_type": "stream",
     "text": [
      "Accuracy by Decision Tree Classifier:= 0.881148\n",
      "\n",
      "Classification Report By Decision Tree Algorithm \n",
      "\n",
      "              precision    recall  f1-score   support\n",
      "\n",
      "           0       0.88      0.89      0.89       753\n",
      "           1       0.89      0.87      0.88       711\n",
      "\n",
      "    accuracy                           0.88      1464\n",
      "   macro avg       0.88      0.88      0.88      1464\n",
      "weighted avg       0.88      0.88      0.88      1464\n",
      "\n"
     ]
    }
   ],
   "source": [
    "from sklearn.tree import DecisionTreeClassifier  \n",
    "classifier= DecisionTreeClassifier(criterion='entropy',random_state=30)  \n",
    "classifier.fit(X_train, y_train)  \n",
    "y_pred_tree = classifier.predict(X_test)\n",
    "accuracy_tree = accuracy_score(y_test,y_pred_tree)\n",
    "print(f\"Accuracy by Decision Tree Classifier:= {accuracy_tree :2f}\\n\")\n",
    "print(\"Classification Report By Decision Tree Algorithm \\n\")\n",
    "print(classification_report(y_test,y_pred_tree))"
   ]
  },
  {
   "cell_type": "code",
   "execution_count": 37,
   "id": "5c1184d7-39e1-435c-8f1c-d8f72e635016",
   "metadata": {},
   "outputs": [
    {
     "name": "stdout",
     "output_type": "stream",
     "text": [
      "Accuracy by Bagging Classifier:= 0.881148\n",
      "\n",
      "Classification Report By Bagging Classifier\n",
      "\n",
      "              precision    recall  f1-score   support\n",
      "\n",
      "           0       0.88      0.89      0.89       753\n",
      "           1       0.89      0.87      0.88       711\n",
      "\n",
      "    accuracy                           0.88      1464\n",
      "   macro avg       0.88      0.88      0.88      1464\n",
      "weighted avg       0.88      0.88      0.88      1464\n",
      "\n"
     ]
    }
   ],
   "source": [
    "from sklearn.ensemble import BaggingClassifier\n",
    "base_classifier = DecisionTreeClassifier()\n",
    "bagging_classifier = BaggingClassifier(base_classifier, n_estimators=10, random_state=30)\n",
    "bagging_classifier.fit(X_train, y_train)\n",
    "y_pred_bagcla = classifier.predict(X_test)\n",
    "accuracy_bagcla = accuracy_score(y_test,y_pred_bagcla)\n",
    "print(f\"Accuracy by Bagging Classifier:= {accuracy_bagcla :2f}\\n\")\n",
    "print(\"Classification Report By Bagging Classifier\\n\")\n",
    "print(classification_report(y_test,y_pred_bagcla))"
   ]
  },
  {
   "cell_type": "code",
   "execution_count": 110,
   "id": "c8e8681f-ff1f-4cf8-91ce-049ed9ac54ac",
   "metadata": {},
   "outputs": [
    {
     "name": "stdout",
     "output_type": "stream",
     "text": [
      "Accuracy by Ada Boost Algorithm:= 0.907787\n",
      "\n",
      "Classification Report By Ada Boost Algorithm \n",
      "\n",
      "              precision    recall  f1-score   support\n",
      "\n",
      "           0       0.77      0.82      0.80       753\n",
      "           1       0.80      0.74      0.77       711\n",
      "\n",
      "    accuracy                           0.78      1464\n",
      "   macro avg       0.79      0.78      0.78      1464\n",
      "weighted avg       0.79      0.78      0.78      1464\n",
      "\n"
     ]
    }
   ],
   "source": [
    "from sklearn.ensemble import AdaBoostClassifier\n",
    "base_classifier = DecisionTreeClassifier(max_depth=1)\n",
    "adaboost_classifier = AdaBoostClassifier(base_classifier, n_estimators=40, learning_rate=1.0, random_state=20)\n",
    "adaboost_classifier.fit(X_train, y_train)\n",
    "y_pred_adb = adaboost_classifier.predict(X_test)\n",
    "accuracy_adb = accuracy_score(y_test, y_pred_adb)\n",
    "print(f\"Accuracy by Ada Boost Algorithm:= {accuracy :2f}\\n\")\n",
    "print(\"Classification Report By Ada Boost Algorithm \\n\")\n",
    "print(classification_report(y_test,y_pred_adb))"
   ]
  },
  {
   "cell_type": "code",
   "execution_count": 111,
   "id": "f5022679-1683-4adf-8653-680e60c11677",
   "metadata": {},
   "outputs": [
    {
     "name": "stdout",
     "output_type": "stream",
     "text": [
      "Mean Squared Error:  0.08\n",
      "Accuracy by voting_regressor:= 0.664290\n",
      "\n"
     ]
    }
   ],
   "source": [
    "from sklearn.ensemble import VotingRegressor\n",
    "from sklearn.ensemble import VotingRegressor\n",
    "from sklearn.linear_model import LinearRegression\n",
    "from sklearn.tree import DecisionTreeRegressor\n",
    "from sklearn.ensemble import RandomForestRegressor\n",
    "from sklearn.metrics import mean_squared_error,r2_score\n",
    "model1 = LinearRegression()\n",
    "model2 = DecisionTreeRegressor()\n",
    "model3 = RandomForestRegressor()\n",
    "voting_regressor = VotingRegressor(\n",
    "    estimators=[('lr', model1), ('dt', model2), ('rf', model3)])\n",
    "voting_regressor.fit(X_train, y_train)\n",
    "y_pred_votingR = voting_regressor.predict(X_test)\n",
    "mse = mean_squared_error(y_test, y_pred_votingR)\n",
    "print(f'Mean Squared Error: {mse: .2f}')\n",
    "accuracy_votingR = r2_score(y_test,y_pred_votingR)\n",
    "print(f\"Accuracy by voting_regressor:= {accuracy_votingR :2f}\\n\")\n",
    "#print(\"Classification Report By Voting Regressor \\n\")\n",
    "#print(classification_report(y_test,y_pred_votingR))"
   ]
  },
  {
   "cell_type": "code",
   "execution_count": 112,
   "id": "aa35e510-a51a-47e0-9354-b37db6a27eb9",
   "metadata": {},
   "outputs": [
    {
     "name": "stdout",
     "output_type": "stream",
     "text": [
      "Accuracy by Gradient Boosting Regressor:= 0.907787\n",
      "\n",
      "Classification Report By  Gradient Boost Algorithm \n",
      "\n",
      "              precision    recall  f1-score   support\n",
      "\n",
      "           0       0.93      0.89      0.91       753\n",
      "           1       0.89      0.93      0.91       711\n",
      "\n",
      "    accuracy                           0.91      1464\n",
      "   macro avg       0.91      0.91      0.91      1464\n",
      "weighted avg       0.91      0.91      0.91      1464\n",
      "\n"
     ]
    }
   ],
   "source": [
    "from sklearn.ensemble import GradientBoostingRegressor\n",
    "import numpy as np\n",
    "model_GBR = GradientBoostingRegressor()\n",
    "model_GBR.fit(X_train,y_train)\n",
    "y_pred_GBR = model_GBR.predict(X_test)\n",
    "accuracy_GBR = accuracy_score(y_test, np.abs(y_pred_GBR).round())\n",
    "print(f\"Accuracy by Gradient Boosting Regressor:= {accuracy_GBR :2f}\\n\")\n",
    "print(\"Classification Report By  Gradient Boost Algorithm \\n\")\n",
    "print(classification_report(y_test,np.abs(y_pred_GBR).round()))\n"
   ]
  },
  {
   "cell_type": "code",
   "execution_count": 115,
   "id": "355f4024-8245-4297-9567-af8cc4c5eb39",
   "metadata": {},
   "outputs": [
    {
     "name": "stdout",
     "output_type": "stream",
     "text": [
      "                   Model_Name  Model_Accuracy  Model_Accuracy_per\n",
      "3               Random Forest        0.916667           91.666667\n",
      "6                     XGBoost        0.909153           90.915301\n",
      "7           Voting Classifier        0.908470           90.846995\n",
      "10  GradientBoostingRegressor        0.907787           90.778689\n",
      "4                         SVM        0.900956           90.095628\n",
      "5               Decision Tree        0.881148           88.114754\n",
      "8          Bagging Classifier        0.881148           88.114754\n",
      "1                         KNN        0.858607           85.860656\n",
      "9        Ada Boost Classifier        0.784836           78.483607\n",
      "2                  Naive Byes        0.747951           74.795082\n",
      "0        Logisitic Regression        0.740437           74.043716\n"
     ]
    },
    {
     "data": {
      "image/png": "[encoded data removed]",
      "text/plain": [
       "<Figure size 1000x700 with 1 Axes>"
      ]
     },
     "metadata": {},
     "output_type": "display_data"
    }
   ],
   "source": [
    "model_name =['Logisitic Regression','KNN','Naive Byes','Random Forest','SVM','Decision Tree','XGBoost','Voting Classifier','Bagging Classifier','Ada Boost Classifier','GradientBoostingRegressor']\n",
    "model_accuracy = [accuracy_lr,accuracy_kclassifier,accuracy_NB,accuracy_RF,accuracy_SVM,accuracy_tree,accuracy_XGB,accuracy_voting,accuracy_bagcla,accuracy_adb,accuracy_GBR]  \n",
    "dict = {'Model_Name':model_name ,'Model_Accuracy': model_accuracy }\n",
    "df = pd.DataFrame(dict)\n",
    "df['Model_Accuracy_per'] = df['Model_Accuracy'] * 100\n",
    "df_new = df.sort_values(by=['Model_Accuracy_per'], ascending=False)\n",
    "print(df_new)\n",
    "plt.figure(figsize = (10,7))\n",
    "plt.title('Algorithm Comparison using Accuracy as performance measure')\n",
    "plt.xticks(rotation=60)\n",
    "plt.ylabel('Model Name')\n",
    "plt.xlabel('Model Accuracy')\n",
    "#ax = df_new.plot(kind='bar', color='lightseagreen', edgecolor='black')\n",
    "ax = sns.barplot(x ='Model_Name' , y = 'Model_Accuracy_per',data = df_new, palette=\"crest\")\n",
    "for bars in ax.containers:\n",
    "    ax.bar_label(bars,fmt='%.2f%%')\n",
    "plt.show()"
   ]
  },
  {
   "cell_type": "code",
   "execution_count": null,
   "id": "8c66f6bf-b0d7-4402-8160-babee6eaa4e2",
   "metadata": {},
   "outputs": [],
   "source": []
  },
  {
   "cell_type": "code",
   "execution_count": null,
   "id": "3fc14486-098b-4cc7-9f00-2088b9f102cc",
   "metadata": {},
   "outputs": [],
   "source": []
  },
  {
   "cell_type": "code",
   "execution_count": null,
   "id": "1d29b7bf-8908-4d45-a0ab-71cbbf042ccd",
   "metadata": {},
   "outputs": [],
   "source": []
  }
 ],
 "metadata": {
  "kernelspec": {
   "display_name": "Python 3 (ipykernel)",
   "language": "python",
   "name": "python3"
  },
  "language_info": {
   "codemirror_mode": {
    "name": "ipython",
    "version": 3
   },
   "file_extension": ".py",
   "mimetype": "text/x-python",
   "name": "python",
   "nbconvert_exporter": "python",
   "pygments_lexer": "ipython3",
   "version": "3.11.4"
  }
 },
 "nbformat": 4,
 "nbformat_minor": 5
}
